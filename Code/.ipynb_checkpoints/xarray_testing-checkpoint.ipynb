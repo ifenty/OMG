{
 "cells": [
  {
   "cell_type": "code",
   "execution_count": 3,
   "metadata": {},
   "outputs": [
    {
     "name": "stderr",
     "output_type": "stream",
     "text": [
      "/anaconda3/lib/python3.7/site-packages/dask/config.py:168: YAMLLoadWarning: calling yaml.load() without Loader=... is deprecated, as the default Loader is unsafe. Please read https://msg.pyyaml.org/load for full details.\n",
      "  data = yaml.load(f.read()) or {}\n",
      "/anaconda3/lib/python3.7/site-packages/distributed/config.py:20: YAMLLoadWarning: calling yaml.load() without Loader=... is deprecated, as the default Loader is unsafe. Please read https://msg.pyyaml.org/load for full details.\n",
      "  defaults = yaml.load(f)\n"
     ]
    }
   ],
   "source": [
    "import xarray as xr"
   ]
  },
  {
   "cell_type": "code",
   "execution_count": 5,
   "metadata": {},
   "outputs": [],
   "source": [
    "s = xr.open_dataset('/Users/gonzalgo/Desktop/testoutput/002_greenl_29101_greenl_29100_netCDF/500m_greenl_29100_17031_002_170314_ALTTBB_HH_04testing100.nc')"
   ]
  },
  {
   "cell_type": "code",
   "execution_count": 6,
   "metadata": {},
   "outputs": [
    {
     "data": {
      "text/plain": [
       "<xarray.Dataset>\n",
       "Dimensions:    (x: 150, y: 98)\n",
       "Coordinates:\n",
       "  * x          (x) float64 5.662e+05 5.668e+05 5.672e+05 ... 6.402e+05 6.408e+05\n",
       "    longitude  (y, x) float64 ...\n",
       "    latitude   (y, x) float64 ...\n",
       "  * y          (y) float64 6.796e+06 6.797e+06 6.797e+06 ... 6.844e+06 6.845e+06\n",
       "Data variables:\n",
       "    elevation  (y, x) float64 ...\n",
       "Attributes:\n",
       "    xmin:                             566250.0\n",
       "    ymax:                             6844750.0\n",
       "    dx_spacing:                       500\n",
       "    dy_spacing:                       500\n",
       "    grid_mapping:                     crs\n",
       "    no_data:                          nan\n",
       "    srid:                             urn:ogc:def:crs:EPSG:32623\n",
       "    proj4text:                        EPSG:32623\n",
       "    Projection:                       UTM 23N 002_greenl_29101_greenl_29100\n",
       "    proj_id:                          WGS84 / UTMzone 23N\n",
       "    Insitution:                       JPL\n",
       "    Mission:                          Oceans Melting Greenland\n",
       "    Mission website:                  https://omg.jpl.nasa.gov/portal/\n",
       "    DOI:                              10.5067/OMGEV-ICEGA\n",
       "    Citation:                         OMG Mission. 2016. Glacier elevation da...\n",
       "    Mission Citation:                 10.5670/oceanog.2016.100\n",
       "    author:                           Matthew Gonzalgo & Forrest Graham\n",
       "    Date created:                     2019-07-24 16:07:05.217521\n",
       "    Processessing code repository:    https://github.com/matthewGonzalgo/OMG\n",
       "    Original data source URL:         https://uavsar.jpl.nasa.gov/cgi-bin/dat...\n",
       "    File naming convention document:  https://uavsar.jpl.nasa.gov/science/doc...\n",
       "    Note on swath ID number:          Started numbers from Cape Farewell and ...\n",
       "    nx:                               149\n",
       "    ny:                               97\n",
       "    _FillValue:                       nan\n",
       "    _CoordinateTransformType:         Projection\n",
       "    _CoordinateAxisTypes:             GeoX GeoY\n",
       "    cdm_data_type:                    Grid\n",
       "    geospatial_lat_units:             degree_north\n",
       "    geospatial_lon_units:             degree_east\n",
       "    geospatial_x_units:               meters\n",
       "    geospatial_y_units:               meters\n",
       "    geospatial_bounds_crs:            EPSG:32623\n",
       "    geospatial_x_resolution:          500 meters\n",
       "    geospatial_y_resolution:          500 meters"
      ]
     },
     "execution_count": 6,
     "metadata": {},
     "output_type": "execute_result"
    }
   ],
   "source": [
    "s"
   ]
  },
  {
   "cell_type": "code",
   "execution_count": 12,
   "metadata": {},
   "outputs": [],
   "source": [
    "import matplotlib.pyplot as plt"
   ]
  },
  {
   "cell_type": "code",
   "execution_count": 10,
   "metadata": {},
   "outputs": [
    {
     "data": {
      "text/plain": [
       "<matplotlib.image.AxesImage at 0xd19106160>"
      ]
     },
     "execution_count": 10,
     "metadata": {},
     "output_type": "execute_result"
    },
    {
     "data": {
      "image/png": "[encoded data removed]",
      "text/plain": [
       "<Figure size 432x288 with 1 Axes>"
      ]
     },
     "metadata": {
      "needs_background": "light"
     },
     "output_type": "display_data"
    }
   ],
   "source": [
    "plt.imshow(s.elevation, origin='lower')"
   ]
  },
  {
   "cell_type": "code",
   "execution_count": 11,
   "metadata": {},
   "outputs": [
    {
     "data": {
      "text/plain": [
       "8893.604222222222"
      ]
     },
     "execution_count": 11,
     "metadata": {},
     "output_type": "execute_result"
    }
   ],
   "source": [
    "62.85313888888\n",
    "8893 - 21752 * -2.777777777777778E-05"
   ]
  },
  {
   "cell_type": "code",
   "execution_count": 24,
   "metadata": {},
   "outputs": [],
   "source": [
    "import numpy as np\n",
    "x = np.arange(21752)"
   ]
  },
  {
   "cell_type": "code",
   "execution_count": 25,
   "metadata": {},
   "outputs": [
    {
     "data": {
      "text/plain": [
       "array([    0,  1000,  2000,  3000,  4000,  5000,  6000,  7000,  8000,\n",
       "        9000, 10000, 11000, 12000, 13000, 14000, 15000, 16000, 17000,\n",
       "       18000, 19000, 20000, 21000])"
      ]
     },
     "execution_count": 25,
     "metadata": {},
     "output_type": "execute_result"
    }
   ],
   "source": [
    "x[::1000]"
   ]
  },
  {
   "cell_type": "code",
   "execution_count": 26,
   "metadata": {},
   "outputs": [
    {
     "data": {
      "text/plain": [
       "array([    1,  1001,  2001,  3001,  4001,  5001,  6001,  7001,  8001,\n",
       "        9001, 10001, 11001, 12001, 13001, 14001, 15001, 16001, 17001,\n",
       "       18001, 19001, 20001, 21001])"
      ]
     },
     "execution_count": 26,
     "metadata": {},
     "output_type": "execute_result"
    }
   ],
   "source": [
    "x[1::1000]"
   ]
  },
  {
   "cell_type": "code",
   "execution_count": 14,
   "metadata": {},
   "outputs": [
    {
     "data": {
      "text/plain": [
       "21752"
      ]
     },
     "execution_count": 14,
     "metadata": {},
     "output_type": "execute_result"
    }
   ],
   "source": [
    "len(x)"
   ]
  },
  {
   "cell_type": "code",
   "execution_count": 15,
   "metadata": {},
   "outputs": [],
   "source": [
    "y = x[::100]"
   ]
  },
  {
   "cell_type": "code",
   "execution_count": 16,
   "metadata": {},
   "outputs": [
    {
     "data": {
      "text/plain": [
       "218"
      ]
     },
     "execution_count": 16,
     "metadata": {},
     "output_type": "execute_result"
    }
   ],
   "source": [
    "len(y)"
   ]
  },
  {
   "cell_type": "code",
   "execution_count": 17,
   "metadata": {},
   "outputs": [
    {
     "data": {
      "text/plain": [
       "21700"
      ]
     },
     "execution_count": 17,
     "metadata": {},
     "output_type": "execute_result"
    }
   ],
   "source": [
    "y[-1]"
   ]
  },
  {
   "cell_type": "code",
   "execution_count": 18,
   "metadata": {},
   "outputs": [
    {
     "data": {
      "text/plain": [
       "(218,)"
      ]
     },
     "execution_count": 18,
     "metadata": {},
     "output_type": "execute_result"
    }
   ],
   "source": [
    "y.shape"
   ]
  },
  {
   "cell_type": "code",
   "execution_count": 19,
   "metadata": {},
   "outputs": [
    {
     "data": {
      "text/plain": [
       "218"
      ]
     },
     "execution_count": 19,
     "metadata": {},
     "output_type": "execute_result"
    }
   ],
   "source": [
    "y.shape[0]"
   ]
  },
  {
   "cell_type": "code",
   "execution_count": 21,
   "metadata": {},
   "outputs": [],
   "source": [
    "x = np.zeros((10, 5))"
   ]
  },
  {
   "cell_type": "code",
   "execution_count": 22,
   "metadata": {},
   "outputs": [
    {
     "data": {
      "text/plain": [
       "10"
      ]
     },
     "execution_count": 22,
     "metadata": {},
     "output_type": "execute_result"
    }
   ],
   "source": [
    "x.shape[0]"
   ]
  },
  {
   "cell_type": "code",
   "execution_count": 23,
   "metadata": {},
   "outputs": [
    {
     "data": {
      "text/plain": [
       "array([[0., 0., 0., 0., 0.],\n",
       "       [0., 0., 0., 0., 0.],\n",
       "       [0., 0., 0., 0., 0.],\n",
       "       [0., 0., 0., 0., 0.],\n",
       "       [0., 0., 0., 0., 0.],\n",
       "       [0., 0., 0., 0., 0.],\n",
       "       [0., 0., 0., 0., 0.],\n",
       "       [0., 0., 0., 0., 0.],\n",
       "       [0., 0., 0., 0., 0.],\n",
       "       [0., 0., 0., 0., 0.]])"
      ]
     },
     "execution_count": 23,
     "metadata": {},
     "output_type": "execute_result"
    }
   ],
   "source": [
    "x\n"
   ]
  },
  {
   "cell_type": "code",
   "execution_count": 4,
   "metadata": {},
   "outputs": [],
   "source": [
    "a = xr.open_dataset('/Users/gonzalgo/Desktop/testoutputfull/004_greenl_02102_greenl_02104_netCDF/10m_greenl_02102_16027_006_160321_ALTTBB_HH_03.nc')"
   ]
  },
  {
   "cell_type": "code",
   "execution_count": 5,
   "metadata": {},
   "outputs": [],
   "source": [
    "b = xr.open_dataset('/Users/gonzalgo/Desktop/testoutputfull/004_greenl_02102_greenl_02104_netCDF/10m_greenl_02104_17031_004_170314_ALTTBB_HH_04.nc')"
   ]
  },
  {
   "cell_type": "code",
   "execution_count": 6,
   "metadata": {},
   "outputs": [],
   "source": [
    "c = xr.open_dataset('/Users/gonzalgo/Desktop/testoutputfull/004_greenl_02102_greenl_02104_netCDF/10m_greenl_02104_18010_017_180308_ALTTBB_HH_01.nc')"
   ]
  },
  {
   "cell_type": "code",
   "execution_count": 7,
   "metadata": {},
   "outputs": [
    {
     "data": {
      "text/plain": [
       "<xarray.Dataset>\n",
       "Dimensions:    (x: 4884, y: 9939)\n",
       "Coordinates:\n",
       "    longitude  (y, x) float64 ...\n",
       "    latitude   (y, x) float64 ...\n",
       "  * y          (y) float64 6.825e+06 6.825e+06 6.825e+06 ... 6.924e+06 6.924e+06\n",
       "  * x          (x) float64 6.03e+05 6.03e+05 6.03e+05 ... 6.518e+05 6.518e+05\n",
       "Data variables:\n",
       "    elevation  (y, x) float64 ...\n",
       "Attributes:\n",
       "    xmin:                             603005.0\n",
       "    ymax:                             6924385.0\n",
       "    dx_spacing:                       10\n",
       "    dy_spacing:                       10\n",
       "    grid_mapping:                     crs\n",
       "    no_data:                          nan\n",
       "    srid:                             urn:ogc:def:crs:EPSG:32623\n",
       "    proj4text:                        EPSG:32623\n",
       "    Projection:                       UTM 23N 004_greenl_02102_greenl_02104\n",
       "    proj_id:                          WGS84 / UTMzone 23N\n",
       "    Insitution:                       JPL\n",
       "    Mission:                          Oceans Melting Greenland\n",
       "    Mission website:                  https://omg.jpl.nasa.gov/portal/\n",
       "    DOI:                              10.5067/OMGEV-ICEGA\n",
       "    Citation:                         OMG Mission. 2016. Glacier elevation da...\n",
       "    Mission Citation:                 10.5670/oceanog.2016.100\n",
       "    author:                           Matthew Gonzalgo & Forrest Graham\n",
       "    Date created:                     2019-07-26 11:59:55.236013\n",
       "    Processessing code repository:    https://github.com/matthewGonzalgo/OMG\n",
       "    Original data source URL:         https://uavsar.jpl.nasa.gov/cgi-bin/dat...\n",
       "    File naming convention document:  https://uavsar.jpl.nasa.gov/science/doc...\n",
       "    Note on swath ID number:          Started numbers from Cape Farewell and ...\n",
       "    nx:                               4883\n",
       "    ny:                               9938\n",
       "    _FillValue:                       nan\n",
       "    _CoordinateTransformType:         Projection\n",
       "    _CoordinateAxisTypes:             GeoX GeoY\n",
       "    cdm_data_type:                    Grid\n",
       "    geospatial_lat_units:             degree_north\n",
       "    geospatial_lon_units:             degree_east\n",
       "    geospatial_x_units:               meters\n",
       "    geospatial_y_units:               meters\n",
       "    geospatial_bounds_crs:            EPSG:32623\n",
       "    geospatial_x_resolution:          10 meters\n",
       "    geospatial_y_resolution:          10 meters"
      ]
     },
     "execution_count": 7,
     "metadata": {},
     "output_type": "execute_result"
    }
   ],
   "source": [
    "a"
   ]
  },
  {
   "cell_type": "code",
   "execution_count": 8,
   "metadata": {},
   "outputs": [
    {
     "data": {
      "text/plain": [
       "<xarray.Dataset>\n",
       "Dimensions:    (x: 4884, y: 9939)\n",
       "Coordinates:\n",
       "    longitude  (y, x) float64 ...\n",
       "    latitude   (y, x) float64 ...\n",
       "  * y          (y) float64 6.825e+06 6.825e+06 6.825e+06 ... 6.924e+06 6.924e+06\n",
       "  * x          (x) float64 6.03e+05 6.03e+05 6.03e+05 ... 6.518e+05 6.518e+05\n",
       "Data variables:\n",
       "    elevation  (y, x) float64 ...\n",
       "Attributes:\n",
       "    xmin:                             603005.0\n",
       "    ymax:                             6924385.0\n",
       "    dx_spacing:                       10\n",
       "    dy_spacing:                       10\n",
       "    grid_mapping:                     crs\n",
       "    no_data:                          nan\n",
       "    srid:                             urn:ogc:def:crs:EPSG:32623\n",
       "    proj4text:                        EPSG:32623\n",
       "    Projection:                       UTM 23N 004_greenl_02102_greenl_02104\n",
       "    proj_id:                          WGS84 / UTMzone 23N\n",
       "    Insitution:                       JPL\n",
       "    Mission:                          Oceans Melting Greenland\n",
       "    Mission website:                  https://omg.jpl.nasa.gov/portal/\n",
       "    DOI:                              10.5067/OMGEV-ICEGA\n",
       "    Citation:                         OMG Mission. 2016. Glacier elevation da...\n",
       "    Mission Citation:                 10.5670/oceanog.2016.100\n",
       "    author:                           Matthew Gonzalgo & Forrest Graham\n",
       "    Date created:                     2019-07-26 11:47:39.396304\n",
       "    Processessing code repository:    https://github.com/matthewGonzalgo/OMG\n",
       "    Original data source URL:         https://uavsar.jpl.nasa.gov/cgi-bin/dat...\n",
       "    File naming convention document:  https://uavsar.jpl.nasa.gov/science/doc...\n",
       "    Note on swath ID number:          Started numbers from Cape Farewell and ...\n",
       "    nx:                               4883\n",
       "    ny:                               9938\n",
       "    _FillValue:                       nan\n",
       "    _CoordinateTransformType:         Projection\n",
       "    _CoordinateAxisTypes:             GeoX GeoY\n",
       "    cdm_data_type:                    Grid\n",
       "    geospatial_lat_units:             degree_north\n",
       "    geospatial_lon_units:             degree_east\n",
       "    geospatial_x_units:               meters\n",
       "    geospatial_y_units:               meters\n",
       "    geospatial_bounds_crs:            EPSG:32623\n",
       "    geospatial_x_resolution:          10 meters\n",
       "    geospatial_y_resolution:          10 meters"
      ]
     },
     "execution_count": 8,
     "metadata": {},
     "output_type": "execute_result"
    }
   ],
   "source": [
    "b"
   ]
  },
  {
   "cell_type": "code",
   "execution_count": 9,
   "metadata": {},
   "outputs": [],
   "source": [
    "ba = b - a"
   ]
  },
  {
   "cell_type": "code",
   "execution_count": 10,
   "metadata": {},
   "outputs": [
    {
     "data": {
      "text/plain": [
       "<xarray.Dataset>\n",
       "Dimensions:    (x: 4884, y: 9939)\n",
       "Coordinates:\n",
       "    longitude  (y, x) float64 -43.0 -43.0 -43.0 -43.0 ... -42.14 -42.14 -42.14\n",
       "    latitude   (y, x) float64 62.44 62.44 62.44 62.44 ... 61.53 61.53 61.53\n",
       "  * y          (y) float64 6.825e+06 6.825e+06 6.825e+06 ... 6.924e+06 6.924e+06\n",
       "  * x          (x) float64 6.03e+05 6.03e+05 6.03e+05 ... 6.518e+05 6.518e+05\n",
       "Data variables:\n",
       "    elevation  (y, x) float64 nan nan nan nan nan nan ... nan nan nan nan nan"
      ]
     },
     "execution_count": 10,
     "metadata": {},
     "output_type": "execute_result"
    }
   ],
   "source": [
    "ba"
   ]
  },
  {
   "cell_type": "code",
   "execution_count": 15,
   "metadata": {},
   "outputs": [
    {
     "data": {
      "text/plain": [
       "<matplotlib.collections.QuadMesh at 0x316a54588>"
      ]
     },
     "execution_count": 15,
     "metadata": {},
     "output_type": "execute_result"
    },
    {
     "data": {
      "image/png": "[encoded data removed]",
      "text/plain": [
       "<Figure size 432x288 with 2 Axes>"
      ]
     },
     "metadata": {
      "needs_background": "light"
     },
     "output_type": "display_data"
    }
   ],
   "source": [
    "ba.elevation.plot()"
   ]
  },
  {
   "cell_type": "code",
   "execution_count": 14,
   "metadata": {},
   "outputs": [
    {
     "data": {
      "text/plain": [
       "<matplotlib.image.AxesImage at 0xe0c8787f0>"
      ]
     },
     "execution_count": 14,
     "metadata": {},
     "output_type": "execute_result"
    },
    {
     "data": {
      "image/png": "[encoded data removed]",
      "text/plain": [
       "<Figure size 432x288 with 1 Axes>"
      ]
     },
     "metadata": {
      "needs_background": "light"
     },
     "output_type": "display_data"
    }
   ],
   "source": [
    "plt.imshow(ba.elevation.values[::10, ::10])"
   ]
  },
  {
   "cell_type": "code",
   "execution_count": 16,
   "metadata": {},
   "outputs": [],
   "source": [
    "%matplotlib inline"
   ]
  },
  {
   "cell_type": "code",
   "execution_count": 17,
   "metadata": {},
   "outputs": [],
   "source": [
    "ba.to_netcdf('/Users/gonzalgo/Desktop/ba.nc')"
   ]
  },
  {
   "cell_type": "code",
   "execution_count": 18,
   "metadata": {},
   "outputs": [],
   "source": [
    "cb = c - b"
   ]
  },
  {
   "cell_type": "code",
   "execution_count": 19,
   "metadata": {},
   "outputs": [],
   "source": [
    "cb.to_netcdf('/Users/gonzalgo/Desktop/cb.nc')"
   ]
  },
  {
   "cell_type": "code",
   "execution_count": 20,
   "metadata": {},
   "outputs": [],
   "source": [
    "ca = c - a"
   ]
  },
  {
   "cell_type": "code",
   "execution_count": 21,
   "metadata": {},
   "outputs": [],
   "source": [
    "ca.to_netcdf('/Users/gonzalgo/Desktop/ca.nc')"
   ]
  },
  {
   "cell_type": "code",
   "execution_count": 22,
   "metadata": {},
   "outputs": [],
   "source": [
    "d = xr.open_dataset('/Users/gonzalgo/Desktop/testoutputfull/001_greenl_01503_greenl_01507_netCDF/10m_greenl_01507_17031_001_170314_ALTTBB_HH_04.nc')"
   ]
  },
  {
   "cell_type": "code",
   "execution_count": 23,
   "metadata": {},
   "outputs": [],
   "source": [
    "e = xr.open_dataset('/Users/gonzalgo/Desktop/testoutputfull/001_greenl_01503_greenl_01507_netCDF/10m_greenl_01507_18010_014_180308_ALTTBB_HH_01.nc')"
   ]
  },
  {
   "cell_type": "code",
   "execution_count": 24,
   "metadata": {},
   "outputs": [],
   "source": [
    "ed = e - d"
   ]
  },
  {
   "cell_type": "code",
   "execution_count": 26,
   "metadata": {},
   "outputs": [],
   "source": [
    "ed.to_netcdf('/Users/gonzalgo/Desktop/ed.nc')"
   ]
  },
  {
   "cell_type": "code",
   "execution_count": 27,
   "metadata": {},
   "outputs": [],
   "source": [
    "f = xr.open_dataset('/Users/gonzalgo/Desktop/testoutputfull/002_greenl_29101_greenl_29100_netCDF/10m_greenl_29100_17031_002_170314_ALTTBB_HH_04.nc')"
   ]
  },
  {
   "cell_type": "code",
   "execution_count": 28,
   "metadata": {},
   "outputs": [],
   "source": [
    "g = xr.open_dataset('/Users/gonzalgo/Desktop/testoutputfull/002_greenl_29101_greenl_29100_netCDF/10m_greenl_29100_18010_015_180308_ALTTBB_HH_01.nc')"
   ]
  },
  {
   "cell_type": "code",
   "execution_count": 29,
   "metadata": {},
   "outputs": [],
   "source": [
    "gf = g - f"
   ]
  },
  {
   "cell_type": "code",
   "execution_count": 30,
   "metadata": {},
   "outputs": [],
   "source": [
    "gf.to_netcdf('/Users/gonzalgo/Desktop/gf.nc')"
   ]
  },
  {
   "cell_type": "code",
   "execution_count": null,
   "metadata": {},
   "outputs": [],
   "source": []
  }
 ],
 "metadata": {
  "kernelspec": {
   "display_name": "Python 3",
   "language": "python",
   "name": "python3"
  },
  "language_info": {
   "codemirror_mode": {
    "name": "ipython",
    "version": 3
   },
   "file_extension": ".py",
   "mimetype": "text/x-python",
   "name": "python",
   "nbconvert_exporter": "python",
   "pygments_lexer": "ipython3",
   "version": "3.7.3"
  }
 },
 "nbformat": 4,
 "nbformat_minor": 2
}
