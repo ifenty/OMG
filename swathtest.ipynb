{
 "cells": [
  {
   "cell_type": "code",
   "execution_count": 1,
   "metadata": {},
   "outputs": [],
   "source": [
    "import numpy as np\n",
    "import matplotlib.pyplot as plt"
   ]
  },
  {
   "cell_type": "code",
   "execution_count": 2,
   "metadata": {},
   "outputs": [],
   "source": [
    "import pyresample as pyr\n",
    "from pyresample.geometry import AreaDefinition\n",
    "# from pyresample.geometry import GridDefinition"
   ]
  },
  {
   "cell_type": "code",
   "execution_count": 11,
   "metadata": {},
   "outputs": [
    {
     "data": {
      "text/plain": [
       "array([-55.        , -54.30612245, -53.6122449 , -52.91836735,\n",
       "       -52.2244898 , -51.53061224, -50.83673469, -50.14285714,\n",
       "       -49.44897959, -48.75510204, -48.06122449, -47.36734694,\n",
       "       -46.67346939, -45.97959184, -45.28571429, -44.59183673,\n",
       "       -43.89795918, -43.20408163, -42.51020408, -41.81632653,\n",
       "       -41.12244898, -40.42857143, -39.73469388, -39.04081633,\n",
       "       -38.34693878, -37.65306122, -36.95918367, -36.26530612,\n",
       "       -35.57142857, -34.87755102, -34.18367347, -33.48979592,\n",
       "       -32.79591837, -32.10204082, -31.40816327, -30.71428571,\n",
       "       -30.02040816, -29.32653061, -28.63265306, -27.93877551,\n",
       "       -27.24489796, -26.55102041, -25.85714286, -25.16326531,\n",
       "       -24.46938776, -23.7755102 , -23.08163265, -22.3877551 ,\n",
       "       -21.69387755, -21.        ])"
      ]
     },
     "execution_count": 11,
     "metadata": {},
     "output_type": "execute_result"
    }
   ],
   "source": [
    "lons = np.linspace(-55, -21, 50)\n",
    "lons\n"
   ]
  },
  {
   "cell_type": "code",
   "execution_count": 12,
   "metadata": {},
   "outputs": [
    {
     "data": {
      "text/plain": [
       "array([71.        , 70.93877551, 70.87755102, 70.81632653, 70.75510204,\n",
       "       70.69387755, 70.63265306, 70.57142857, 70.51020408, 70.44897959,\n",
       "       70.3877551 , 70.32653061, 70.26530612, 70.20408163, 70.14285714,\n",
       "       70.08163265, 70.02040816, 69.95918367, 69.89795918, 69.83673469,\n",
       "       69.7755102 , 69.71428571, 69.65306122, 69.59183673, 69.53061224,\n",
       "       69.46938776, 69.40816327, 69.34693878, 69.28571429, 69.2244898 ,\n",
       "       69.16326531, 69.10204082, 69.04081633, 68.97959184, 68.91836735,\n",
       "       68.85714286, 68.79591837, 68.73469388, 68.67346939, 68.6122449 ,\n",
       "       68.55102041, 68.48979592, 68.42857143, 68.36734694, 68.30612245,\n",
       "       68.24489796, 68.18367347, 68.12244898, 68.06122449, 68.        ])"
      ]
     },
     "execution_count": 12,
     "metadata": {},
     "output_type": "execute_result"
    }
   ],
   "source": [
    "lats = np.linspace(71, 68, 50)\n",
    "lats"
   ]
  },
  {
   "cell_type": "code",
   "execution_count": 14,
   "metadata": {},
   "outputs": [
    {
     "data": {
      "text/plain": [
       "(array([[-55.        , -54.30612245, -53.6122449 , ..., -22.3877551 ,\n",
       "         -21.69387755, -21.        ],\n",
       "        [-55.        , -54.30612245, -53.6122449 , ..., -22.3877551 ,\n",
       "         -21.69387755, -21.        ],\n",
       "        [-55.        , -54.30612245, -53.6122449 , ..., -22.3877551 ,\n",
       "         -21.69387755, -21.        ],\n",
       "        ...,\n",
       "        [-55.        , -54.30612245, -53.6122449 , ..., -22.3877551 ,\n",
       "         -21.69387755, -21.        ],\n",
       "        [-55.        , -54.30612245, -53.6122449 , ..., -22.3877551 ,\n",
       "         -21.69387755, -21.        ],\n",
       "        [-55.        , -54.30612245, -53.6122449 , ..., -22.3877551 ,\n",
       "         -21.69387755, -21.        ]]),\n",
       " array([[71.        , 71.        , 71.        , ..., 71.        ,\n",
       "         71.        , 71.        ],\n",
       "        [70.93877551, 70.93877551, 70.93877551, ..., 70.93877551,\n",
       "         70.93877551, 70.93877551],\n",
       "        [70.87755102, 70.87755102, 70.87755102, ..., 70.87755102,\n",
       "         70.87755102, 70.87755102],\n",
       "        ...,\n",
       "        [68.12244898, 68.12244898, 68.12244898, ..., 68.12244898,\n",
       "         68.12244898, 68.12244898],\n",
       "        [68.06122449, 68.06122449, 68.06122449, ..., 68.06122449,\n",
       "         68.06122449, 68.06122449],\n",
       "        [68.        , 68.        , 68.        , ..., 68.        ,\n",
       "         68.        , 68.        ]]))"
      ]
     },
     "execution_count": 14,
     "metadata": {},
     "output_type": "execute_result"
    }
   ],
   "source": [
    "lonslons, latslats = np.meshgrid(lons, lats)\n",
    "lonslons, latslats"
   ]
  },
  {
   "cell_type": "code",
   "execution_count": 18,
   "metadata": {},
   "outputs": [
    {
     "data": {
      "text/plain": [
       "array([[-0.00000000e+00, -4.93060409e+02, -9.65528409e+02, ...,\n",
       "         4.03191726e+02,  1.96964756e+02,  3.65189676e-13],\n",
       "       [-0.00000000e+00, -4.92635235e+02, -9.64695817e+02, ...,\n",
       "         4.02844047e+02,  1.96794910e+02,  3.64874766e-13],\n",
       "       [-0.00000000e+00, -4.92210060e+02, -9.63863226e+02, ...,\n",
       "         4.02496368e+02,  1.96625064e+02,  3.64559857e-13],\n",
       "       ...,\n",
       "       [-0.00000000e+00, -4.73077219e+02, -9.26396616e+02, ...,\n",
       "         3.86850814e+02,  1.88981993e+02,  3.50388944e-13],\n",
       "       [-0.00000000e+00, -4.72652045e+02, -9.25564025e+02, ...,\n",
       "         3.86503135e+02,  1.88812147e+02,  3.50074035e-13],\n",
       "       [-0.00000000e+00, -4.72226870e+02, -9.24731434e+02, ...,\n",
       "         3.86155456e+02,  1.88642301e+02,  3.49759126e-13]])"
      ]
     },
     "execution_count": 18,
     "metadata": {},
     "output_type": "execute_result"
    }
   ],
   "source": [
    "z =  lonslons * latslats * np.sin((lonslons + 55)/34 * 2 * np.pi)\n",
    "z"
   ]
  },
  {
   "cell_type": "code",
   "execution_count": 19,
   "metadata": {},
   "outputs": [
    {
     "data": {
      "text/plain": [
       "<matplotlib.collections.QuadMesh at 0x10f589b00>"
      ]
     },
     "execution_count": 19,
     "metadata": {},
     "output_type": "execute_result"
    },
    {
     "data": {
      "image/png": "[encoded data removed]",
      "text/plain": [
       "<Figure size 432x288 with 1 Axes>"
      ]
     },
     "metadata": {
      "needs_background": "light"
     },
     "output_type": "display_data"
    }
   ],
   "source": [
    "plt.pcolormesh(lons, lats, z)"
   ]
  },
  {
   "cell_type": "code",
   "execution_count": 8,
   "metadata": {},
   "outputs": [
    {
     "name": "stdout",
     "output_type": "stream",
     "text": [
      "Area ID: test_area\n",
      "Description: Testing Pyresample\n",
      "Projection ID: EPSG: 4326\n",
      "Projection: {'a': '6371228.0', 'lat_0': '-90.0', 'lon_0': '0.0', 'proj': 'laea', 'units': 'm'}\n",
      "Number of columns: 425\n",
      "Number of rows: 425\n",
      "Area extent: (-55, -68, -21, 71)\n"
     ]
    }
   ],
   "source": [
    "area_id = 'test_area'\n",
    "description = 'Lat-Long Grid'\n",
    "proj_id = 'EPSG: 4326'\n",
    "proj_dict = {'proj': 'laea', 'lat_0': -90, 'lon_0': 0, 'a': 6371228.0, 'units': 'm'}\n",
    "width = 425\n",
    "height = 425\n",
    "area_extent = (-55, -68, -21, 71)\n",
    "area_def = AreaDefinition(area_id, description, proj_id, proj_dict, width, height, area_extent)\n",
    "print(area_def)"
   ]
  },
  {
   "cell_type": "code",
   "execution_count": null,
   "metadata": {},
   "outputs": [],
   "source": [
    "area_id = 'test_area'\n",
    "description = 'Common Area'\n",
    "proj_id = 'EPSG: 6931'\n",
    "proj_dict = {'proj': 'laea', 'lat_0': -90, 'lon_0': 0, 'a': 6371228.0, 'units': 'm'}\n",
    "width = 425\n",
    "height = 425\n",
    "area_extent = (-55, -68, -21, 71)\n",
    "area_def = AreaDefinition(area_id, description, proj_id, proj_dict, width, height, area_extent)\n",
    "print(area_def)"
   ]
  },
  {
   "cell_type": "code",
   "execution_count": null,
   "metadata": {},
   "outputs": [],
   "source": [
    "swath_def = geometry.SwathDefinition(lons=lonslons, lats=latslats)\n",
    "\n",
    "\n",
    "result = kd_tree.resample_nearest(swath_def, z, area_def, \\\n",
    "                                  radius_of_influence=34000, fill_value=np.nan)"
   ]
  }
 ],
 "metadata": {
  "kernelspec": {
   "display_name": "Python 3",
   "language": "python",
   "name": "python3"
  },
  "language_info": {
   "codemirror_mode": {
    "name": "ipython",
    "version": 3
   },
   "file_extension": ".py",
   "mimetype": "text/x-python",
   "name": "python",
   "nbconvert_exporter": "python",
   "pygments_lexer": "ipython3",
   "version": "3.6.8"
  }
 },
 "nbformat": 4,
 "nbformat_minor": 2
}
