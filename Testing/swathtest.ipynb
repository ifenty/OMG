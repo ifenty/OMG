{
 "cells": [
  {
   "cell_type": "code",
   "execution_count": 1,
   "metadata": {},
   "outputs": [],
   "source": [
    "import numpy as np\n",
    "import matplotlib.pyplot as plt"
   ]
  },
  {
   "cell_type": "code",
   "execution_count": 2,
   "metadata": {},
   "outputs": [],
   "source": [
    "import pyresample as pyr\n",
    "from pyresample import kd_tree, geometry"
   ]
  },
  {
   "cell_type": "code",
   "execution_count": 3,
   "metadata": {},
   "outputs": [
    {
     "data": {
      "text/plain": [
       "array([-55.        , -54.65656566, -54.31313131, -53.96969697,\n",
       "       -53.62626263, -53.28282828, -52.93939394, -52.5959596 ,\n",
       "       -52.25252525, -51.90909091, -51.56565657, -51.22222222,\n",
       "       -50.87878788, -50.53535354, -50.19191919, -49.84848485,\n",
       "       -49.50505051, -49.16161616, -48.81818182, -48.47474747,\n",
       "       -48.13131313, -47.78787879, -47.44444444, -47.1010101 ,\n",
       "       -46.75757576, -46.41414141, -46.07070707, -45.72727273,\n",
       "       -45.38383838, -45.04040404, -44.6969697 , -44.35353535,\n",
       "       -44.01010101, -43.66666667, -43.32323232, -42.97979798,\n",
       "       -42.63636364, -42.29292929, -41.94949495, -41.60606061,\n",
       "       -41.26262626, -40.91919192, -40.57575758, -40.23232323,\n",
       "       -39.88888889, -39.54545455, -39.2020202 , -38.85858586,\n",
       "       -38.51515152, -38.17171717, -37.82828283, -37.48484848,\n",
       "       -37.14141414, -36.7979798 , -36.45454545, -36.11111111,\n",
       "       -35.76767677, -35.42424242, -35.08080808, -34.73737374,\n",
       "       -34.39393939, -34.05050505, -33.70707071, -33.36363636,\n",
       "       -33.02020202, -32.67676768, -32.33333333, -31.98989899,\n",
       "       -31.64646465, -31.3030303 , -30.95959596, -30.61616162,\n",
       "       -30.27272727, -29.92929293, -29.58585859, -29.24242424,\n",
       "       -28.8989899 , -28.55555556, -28.21212121, -27.86868687,\n",
       "       -27.52525253, -27.18181818, -26.83838384, -26.49494949,\n",
       "       -26.15151515, -25.80808081, -25.46464646, -25.12121212,\n",
       "       -24.77777778, -24.43434343, -24.09090909, -23.74747475,\n",
       "       -23.4040404 , -23.06060606, -22.71717172, -22.37373737,\n",
       "       -22.03030303, -21.68686869, -21.34343434, -21.        ])"
      ]
     },
     "execution_count": 3,
     "metadata": {},
     "output_type": "execute_result"
    }
   ],
   "source": [
    "lons = np.linspace(-55, -21, 100)\n",
    "lons"
   ]
  },
  {
   "cell_type": "code",
   "execution_count": 4,
   "metadata": {},
   "outputs": [
    {
     "data": {
      "text/plain": [
       "array([71.        , 70.96969697, 70.93939394, 70.90909091, 70.87878788,\n",
       "       70.84848485, 70.81818182, 70.78787879, 70.75757576, 70.72727273,\n",
       "       70.6969697 , 70.66666667, 70.63636364, 70.60606061, 70.57575758,\n",
       "       70.54545455, 70.51515152, 70.48484848, 70.45454545, 70.42424242,\n",
       "       70.39393939, 70.36363636, 70.33333333, 70.3030303 , 70.27272727,\n",
       "       70.24242424, 70.21212121, 70.18181818, 70.15151515, 70.12121212,\n",
       "       70.09090909, 70.06060606, 70.03030303, 70.        , 69.96969697,\n",
       "       69.93939394, 69.90909091, 69.87878788, 69.84848485, 69.81818182,\n",
       "       69.78787879, 69.75757576, 69.72727273, 69.6969697 , 69.66666667,\n",
       "       69.63636364, 69.60606061, 69.57575758, 69.54545455, 69.51515152,\n",
       "       69.48484848, 69.45454545, 69.42424242, 69.39393939, 69.36363636,\n",
       "       69.33333333, 69.3030303 , 69.27272727, 69.24242424, 69.21212121,\n",
       "       69.18181818, 69.15151515, 69.12121212, 69.09090909, 69.06060606,\n",
       "       69.03030303, 69.        , 68.96969697, 68.93939394, 68.90909091,\n",
       "       68.87878788, 68.84848485, 68.81818182, 68.78787879, 68.75757576,\n",
       "       68.72727273, 68.6969697 , 68.66666667, 68.63636364, 68.60606061,\n",
       "       68.57575758, 68.54545455, 68.51515152, 68.48484848, 68.45454545,\n",
       "       68.42424242, 68.39393939, 68.36363636, 68.33333333, 68.3030303 ,\n",
       "       68.27272727, 68.24242424, 68.21212121, 68.18181818, 68.15151515,\n",
       "       68.12121212, 68.09090909, 68.06060606, 68.03030303, 68.        ])"
      ]
     },
     "execution_count": 4,
     "metadata": {},
     "output_type": "execute_result"
    }
   ],
   "source": [
    "lats = np.linspace(71, 68, 100)\n",
    "lats"
   ]
  },
  {
   "cell_type": "code",
   "execution_count": 5,
   "metadata": {},
   "outputs": [
    {
     "data": {
      "text/plain": [
       "(array([[-55.        , -54.65656566, -54.31313131, ..., -21.68686869,\n",
       "         -21.34343434, -21.        ],\n",
       "        [-55.        , -54.65656566, -54.31313131, ..., -21.68686869,\n",
       "         -21.34343434, -21.        ],\n",
       "        [-55.        , -54.65656566, -54.31313131, ..., -21.68686869,\n",
       "         -21.34343434, -21.        ],\n",
       "        ...,\n",
       "        [-55.        , -54.65656566, -54.31313131, ..., -21.68686869,\n",
       "         -21.34343434, -21.        ],\n",
       "        [-55.        , -54.65656566, -54.31313131, ..., -21.68686869,\n",
       "         -21.34343434, -21.        ],\n",
       "        [-55.        , -54.65656566, -54.31313131, ..., -21.68686869,\n",
       "         -21.34343434, -21.        ]]),\n",
       " array([[71.        , 71.        , 71.        , ..., 71.        ,\n",
       "         71.        , 71.        ],\n",
       "        [70.96969697, 70.96969697, 70.96969697, ..., 70.96969697,\n",
       "         70.96969697, 70.96969697],\n",
       "        [70.93939394, 70.93939394, 70.93939394, ..., 70.93939394,\n",
       "         70.93939394, 70.93939394],\n",
       "        ...,\n",
       "        [68.06060606, 68.06060606, 68.06060606, ..., 68.06060606,\n",
       "         68.06060606, 68.06060606],\n",
       "        [68.03030303, 68.03030303, 68.03030303, ..., 68.03030303,\n",
       "         68.03030303, 68.03030303],\n",
       "        [68.        , 68.        , 68.        , ..., 68.        ,\n",
       "         68.        , 68.        ]]))"
      ]
     },
     "execution_count": 5,
     "metadata": {},
     "output_type": "execute_result"
    }
   ],
   "source": [
    "lonslons, latslats = np.meshgrid(lons, lats)\n",
    "lonslons, latslats"
   ]
  },
  {
   "cell_type": "code",
   "execution_count": 6,
   "metadata": {},
   "outputs": [
    {
     "data": {
      "text/plain": [
       "array([[-0.00000000e+00, -2.46123888e+02, -4.88169911e+02, ...,\n",
       "         1.94922968e+02,  9.61115828e+01,  3.65189676e-13],\n",
       "       [-0.00000000e+00, -2.46018841e+02, -4.87961559e+02, ...,\n",
       "         1.94839774e+02,  9.60705621e+01,  3.65033811e-13],\n",
       "       [-0.00000000e+00, -2.45913795e+02, -4.87753206e+02, ...,\n",
       "         1.94756581e+02,  9.60295413e+01,  3.64877947e-13],\n",
       "       ...,\n",
       "       [-0.00000000e+00, -2.35934380e+02, -4.67959719e+02, ...,\n",
       "         1.86853174e+02,  9.21325715e+01,  3.50070854e-13],\n",
       "       [-0.00000000e+00, -2.35829333e+02, -4.67751366e+02, ...,\n",
       "         1.86769980e+02,  9.20915508e+01,  3.49914990e-13],\n",
       "       [-0.00000000e+00, -2.35724287e+02, -4.67543014e+02, ...,\n",
       "         1.86686786e+02,  9.20505300e+01,  3.49759126e-13]])"
      ]
     },
     "execution_count": 6,
     "metadata": {},
     "output_type": "execute_result"
    }
   ],
   "source": [
    "z =  lonslons * latslats * np.sin((lonslons + 55)/34 * 2 * np.pi)\n",
    "z"
   ]
  },
  {
   "cell_type": "code",
   "execution_count": 7,
   "metadata": {},
   "outputs": [
    {
     "data": {
      "text/plain": [
       "<matplotlib.collections.QuadMesh at 0x108d27cc0>"
      ]
     },
     "execution_count": 7,
     "metadata": {},
     "output_type": "execute_result"
    },
    {
     "data": {
      "image/png": "[encoded data removed]",
      "text/plain": [
       "<Figure size 432x288 with 1 Axes>"
      ]
     },
     "metadata": {
      "needs_background": "light"
     },
     "output_type": "display_data"
    }
   ],
   "source": [
    "plt.pcolormesh(lons, lats, z)"
   ]
  },
  {
   "cell_type": "code",
   "execution_count": 10,
   "metadata": {},
   "outputs": [
    {
     "name": "stdout",
     "output_type": "stream",
     "text": [
      "Area ID: EPSG:4326\n",
      "Description: Lat-Long Grid\n",
      "Projection ID: WGS 84\n",
      "Projection: {'EPSG': '4326'}\n",
      "Number of columns: 1000\n",
      "Number of rows: 1000\n",
      "Area extent: (-60, 65, -15, 75)\n"
     ]
    }
   ],
   "source": [
    "area_id = 'EPSG:4326'\n",
    "description = 'Lat-Long Grid'\n",
    "proj_id = 'WGS 84'\n",
    "proj_string = 'EPSG:4326'\n",
    "width = 1000\n",
    "height = 1000\n",
    "area_extent = (-60, 65, -15, 75)\n",
    "area_def = geometry.AreaDefinition(area_id, description, proj_id, proj_string, width, height, area_extent)\n",
    "print(area_def)"
   ]
  },
  {
   "cell_type": "code",
   "execution_count": 11,
   "metadata": {},
   "outputs": [
    {
     "data": {
      "text/plain": [
       "<matplotlib.image.AxesImage at 0x107e5a7f0>"
      ]
     },
     "execution_count": 11,
     "metadata": {},
     "output_type": "execute_result"
    },
    {
     "data": {
      "image/png": "[encoded data removed]",
      "text/plain": [
       "<Figure size 432x288 with 1 Axes>"
      ]
     },
     "metadata": {
      "needs_background": "light"
     },
     "output_type": "display_data"
    }
   ],
   "source": [
    "swath_def = geometry.SwathDefinition(lons=lonslons, lats=latslats)\n",
    "result = kd_tree.resample_nearest(swath_def, z, area_def, radius_of_influence=34000, fill_value=np.nan)\n",
    "plt.imshow(result)"
   ]
  },
  {
   "cell_type": "code",
   "execution_count": null,
   "metadata": {},
   "outputs": [],
   "source": []
  }
 ],
 "metadata": {
  "kernelspec": {
   "display_name": "Python 3",
   "language": "python",
   "name": "python3"
  },
  "language_info": {
   "codemirror_mode": {
    "name": "ipython",
    "version": 3
   },
   "file_extension": ".py",
   "mimetype": "text/x-python",
   "name": "python",
   "nbconvert_exporter": "python",
   "pygments_lexer": "ipython3",
   "version": "3.6.8"
  }
 },
 "nbformat": 4,
 "nbformat_minor": 2
}
