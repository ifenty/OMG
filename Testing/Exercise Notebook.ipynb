{
 "cells": [
  {
   "cell_type": "code",
   "execution_count": 3,
   "metadata": {},
   "outputs": [],
   "source": [
    "import numpy as np\n",
    "import matplotlib.pyplot as plt\n",
    "import pyresample as pyr\n",
    "from pyresample import kd_tree, geometry"
   ]
  },
  {
   "cell_type": "markdown",
   "metadata": {},
   "source": [
    "### Longitude and latitude arrays of original swath"
   ]
  },
  {
   "cell_type": "code",
   "execution_count": 4,
   "metadata": {},
   "outputs": [],
   "source": [
    "lons = np.linspace(-55, -21, 1000)\n",
    "lats = np.linspace(71, 68, 1000)\n",
    "lonslons, latslats = np.meshgrid(lons, lats)"
   ]
  },
  {
   "cell_type": "code",
   "execution_count": 5,
   "metadata": {},
   "outputs": [
    {
     "data": {
      "text/plain": [
       "(1000, 1000)"
      ]
     },
     "execution_count": 5,
     "metadata": {},
     "output_type": "execute_result"
    }
   ],
   "source": [
    "lonslons.shape"
   ]
  },
  {
   "cell_type": "code",
   "execution_count": 3,
   "metadata": {},
   "outputs": [
    {
     "data": {
      "text/plain": [
       "array([[-55.        , -54.96596597, -54.93193193, ..., -21.06806807,\n",
       "        -21.03403403, -21.        ],\n",
       "       [-55.        , -54.96596597, -54.93193193, ..., -21.06806807,\n",
       "        -21.03403403, -21.        ],\n",
       "       [-55.        , -54.96596597, -54.93193193, ..., -21.06806807,\n",
       "        -21.03403403, -21.        ],\n",
       "       ...,\n",
       "       [-55.        , -54.96596597, -54.93193193, ..., -21.06806807,\n",
       "        -21.03403403, -21.        ],\n",
       "       [-55.        , -54.96596597, -54.93193193, ..., -21.06806807,\n",
       "        -21.03403403, -21.        ],\n",
       "       [-55.        , -54.96596597, -54.93193193, ..., -21.06806807,\n",
       "        -21.03403403, -21.        ]])"
      ]
     },
     "execution_count": 3,
     "metadata": {},
     "output_type": "execute_result"
    }
   ],
   "source": [
    "lonslons"
   ]
  },
  {
   "cell_type": "code",
   "execution_count": 6,
   "metadata": {},
   "outputs": [
    {
     "data": {
      "text/plain": [
       "(1000, 1000)"
      ]
     },
     "execution_count": 6,
     "metadata": {},
     "output_type": "execute_result"
    }
   ],
   "source": [
    "latslats.shape"
   ]
  },
  {
   "cell_type": "code",
   "execution_count": 4,
   "metadata": {},
   "outputs": [
    {
     "data": {
      "text/plain": [
       "array([[71.        , 71.        , 71.        , ..., 71.        ,\n",
       "        71.        , 71.        ],\n",
       "       [70.996997  , 70.996997  , 70.996997  , ..., 70.996997  ,\n",
       "        70.996997  , 70.996997  ],\n",
       "       [70.99399399, 70.99399399, 70.99399399, ..., 70.99399399,\n",
       "        70.99399399, 70.99399399],\n",
       "       ...,\n",
       "       [68.00600601, 68.00600601, 68.00600601, ..., 68.00600601,\n",
       "        68.00600601, 68.00600601],\n",
       "       [68.003003  , 68.003003  , 68.003003  , ..., 68.003003  ,\n",
       "        68.003003  , 68.003003  ],\n",
       "       [68.        , 68.        , 68.        , ..., 68.        ,\n",
       "        68.        , 68.        ]])"
      ]
     },
     "execution_count": 4,
     "metadata": {},
     "output_type": "execute_result"
    }
   ],
   "source": [
    "latslats"
   ]
  },
  {
   "cell_type": "code",
   "execution_count": 5,
   "metadata": {},
   "outputs": [
    {
     "data": {
      "text/plain": [
       "(array([[-55.        , -54.96596597, -54.93193193, ..., -21.06806807,\n",
       "         -21.03403403, -21.        ],\n",
       "        [-55.        , -54.96596597, -54.93193193, ..., -21.06806807,\n",
       "         -21.03403403, -21.        ],\n",
       "        [-55.        , -54.96596597, -54.93193193, ..., -21.06806807,\n",
       "         -21.03403403, -21.        ],\n",
       "        ...,\n",
       "        [-55.        , -54.96596597, -54.93193193, ..., -21.06806807,\n",
       "         -21.03403403, -21.        ],\n",
       "        [-55.        , -54.96596597, -54.93193193, ..., -21.06806807,\n",
       "         -21.03403403, -21.        ],\n",
       "        [-55.        , -54.96596597, -54.93193193, ..., -21.06806807,\n",
       "         -21.03403403, -21.        ]]),\n",
       " array([[71.        , 71.        , 71.        , ..., 71.        ,\n",
       "         71.        , 71.        ],\n",
       "        [70.996997  , 70.996997  , 70.996997  , ..., 70.996997  ,\n",
       "         70.996997  , 70.996997  ],\n",
       "        [70.99399399, 70.99399399, 70.99399399, ..., 70.99399399,\n",
       "         70.99399399, 70.99399399],\n",
       "        ...,\n",
       "        [68.00600601, 68.00600601, 68.00600601, ..., 68.00600601,\n",
       "         68.00600601, 68.00600601],\n",
       "        [68.003003  , 68.003003  , 68.003003  , ..., 68.003003  ,\n",
       "         68.003003  , 68.003003  ],\n",
       "        [68.        , 68.        , 68.        , ..., 68.        ,\n",
       "         68.        , 68.        ]]))"
      ]
     },
     "execution_count": 5,
     "metadata": {},
     "output_type": "execute_result"
    }
   ],
   "source": [
    "lonslons, latslats"
   ]
  },
  {
   "cell_type": "markdown",
   "metadata": {},
   "source": [
    "### Z value represents data and is arbitrary in this case, just made it look cool"
   ]
  },
  {
   "cell_type": "code",
   "execution_count": 13,
   "metadata": {},
   "outputs": [],
   "source": [
    "z = lonslons *latslats *np.sin((lonslons + 55) / 34 * 2 * np.pi) \n",
    "swath_def = geometry.SwathDefinition(lons = lonslons, lats = latslats)"
   ]
  },
  {
   "cell_type": "code",
   "execution_count": 16,
   "metadata": {},
   "outputs": [
    {
     "data": {
      "text/plain": [
       "(1000, 1000)"
      ]
     },
     "execution_count": 16,
     "metadata": {},
     "output_type": "execute_result"
    }
   ],
   "source": [
    "z.shape"
   ]
  },
  {
   "cell_type": "code",
   "execution_count": 15,
   "metadata": {},
   "outputs": [
    {
     "data": {
      "text/plain": [
       "(1000, 1000)"
      ]
     },
     "execution_count": 15,
     "metadata": {},
     "output_type": "execute_result"
    }
   ],
   "source": [
    "swath_def.shape"
   ]
  },
  {
   "cell_type": "code",
   "execution_count": 7,
   "metadata": {},
   "outputs": [
    {
     "data": {
      "text/plain": [
       "<matplotlib.collections.QuadMesh at 0x102c14b70>"
      ]
     },
     "execution_count": 7,
     "metadata": {},
     "output_type": "execute_result"
    },
    {
     "data": {
      "image/png": "[encoded data removed]",
      "text/plain": [
       "<Figure size 432x288 with 1 Axes>"
      ]
     },
     "metadata": {
      "needs_background": "light"
     },
     "output_type": "display_data"
    }
   ],
   "source": [
    "plt.pcolormesh(lons, lats, z)"
   ]
  },
  {
   "cell_type": "markdown",
   "metadata": {},
   "source": [
    "### Area of new common grid in different coordinate system"
   ]
  },
  {
   "cell_type": "code",
   "execution_count": 26,
   "metadata": {},
   "outputs": [],
   "source": [
    "area_id = 'ease'\n",
    "description = 'ease grid north'\n",
    "proj_id = 'WGS 84'\n",
    "proj_string = 'EPSG:6931'\n",
    "width = 1000\n",
    "height = 1000\n",
    "area_extent = (-2286563, -2336644, -544973, -880249)\n",
    "area_def = geometry.AreaDefinition(area_id, description, proj_id, proj_string, width, height, area_extent)"
   ]
  },
  {
   "cell_type": "code",
   "execution_count": 30,
   "metadata": {},
   "outputs": [
    {
     "data": {
      "text/plain": [
       "(1000, 1000)"
      ]
     },
     "execution_count": 30,
     "metadata": {},
     "output_type": "execute_result"
    }
   ],
   "source": [
    "area_def.shape"
   ]
  },
  {
   "cell_type": "markdown",
   "metadata": {},
   "source": [
    "### xe = xedge"
   ]
  },
  {
   "cell_type": "code",
   "execution_count": 27,
   "metadata": {},
   "outputs": [],
   "source": [
    "xe = np.linspace(-2286563, -544973, 1000)\n",
    "ye = np.linspace(-2336644, -880249, 1000)\n",
    "xx, yy = np.meshgrid(xe, ye)"
   ]
  },
  {
   "cell_type": "markdown",
   "metadata": {},
   "source": [
    "### result = z values of the new coordinate system"
   ]
  },
  {
   "cell_type": "code",
   "execution_count": 28,
   "metadata": {},
   "outputs": [
    {
     "data": {
      "text/plain": [
       "<matplotlib.image.AxesImage at 0x11115d7f0>"
      ]
     },
     "execution_count": 28,
     "metadata": {},
     "output_type": "execute_result"
    },
    {
     "data": {
      "image/png": "[encoded data removed]",
      "text/plain": [
       "<Figure size 432x288 with 1 Axes>"
      ]
     },
     "metadata": {
      "needs_background": "light"
     },
     "output_type": "display_data"
    }
   ],
   "source": [
    "result = kd_tree.resample_nearest(swath_def, z, area_def, radius_of_influence=34000, fill_value=np.nan)\n",
    "plt.imshow(result)"
   ]
  },
  {
   "cell_type": "code",
   "execution_count": 29,
   "metadata": {},
   "outputs": [
    {
     "data": {
      "text/plain": [
       "<matplotlib.collections.QuadMesh at 0x1114f5c88>"
      ]
     },
     "execution_count": 29,
     "metadata": {},
     "output_type": "execute_result"
    },
    {
     "data": {
      "image/png": "[encoded data removed]",
      "text/plain": [
       "<Figure size 432x288 with 1 Axes>"
      ]
     },
     "metadata": {
      "needs_background": "light"
     },
     "output_type": "display_data"
    }
   ],
   "source": [
    "plt.pcolormesh(xx, yy, result)"
   ]
  },
  {
   "cell_type": "code",
   "execution_count": null,
   "metadata": {},
   "outputs": [],
   "source": []
  }
 ],
 "metadata": {
  "kernelspec": {
   "display_name": "Python 3",
   "language": "python",
   "name": "python3"
  },
  "language_info": {
   "codemirror_mode": {
    "name": "ipython",
    "version": 3
   },
   "file_extension": ".py",
   "mimetype": "text/x-python",
   "name": "python",
   "nbconvert_exporter": "python",
   "pygments_lexer": "ipython3",
   "version": "3.6.8"
  }
 },
 "nbformat": 4,
 "nbformat_minor": 2
}
